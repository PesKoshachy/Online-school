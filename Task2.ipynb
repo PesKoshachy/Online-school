{
 "cells": [
  {
   "cell_type": "code",
   "execution_count": 2,
   "metadata": {},
   "outputs": [],
   "source": [
    "import pandahouse as ph"
   ]
  },
  {
   "cell_type": "code",
   "execution_count": 3,
   "metadata": {},
   "outputs": [],
   "source": [
    "connection_default = {'host': 'https://clickhouse.lab.karpov.courses',\n",
    "                      'database':'default',\n",
    "                      'user':'student', \n",
    "                      'password':'dpo_python_2020'\n",
    "                     }\n",
    "connection_test = dict(database='test',\n",
    "                  host='https://clickhouse.lab.karpov.courses',\n",
    "                  user='student-rw',\n",
    "                  password='656e2b0c9c')"
   ]
  },
  {
   "cell_type": "code",
   "execution_count": 4,
   "metadata": {},
   "outputs": [],
   "source": [
    "Query1 = '''\n",
    "WITH aboba AS (\n",
    "    SELECT\n",
    "        st_id AS hard_workers,\n",
    "        COUNT(correct) AS answers\n",
    "    FROM default.peas\n",
    "    WHERE correct = 1 AND timest BETWEEN '2021-10-01' AND '2021-10-31'\n",
    "    GROUP BY st_id\n",
    "    HAVING answers >= 20)\n",
    "SELECT\n",
    "    COUNT(hard_workers) AS hard_workers_amount\n",
    "FROM aboba'''"
   ]
  },
  {
   "cell_type": "markdown",
   "metadata": {},
   "source": [
    "### Пояснение первого запроса\n",
    "\n",
    "Сперва создаю временную таблицу, в которой сохраняю сгруппированную по пользователям информацию о количестве решенных задач. В WHERE исключаю все неверное решенные задачи (ибо для нас они не имеют значения) и ограничиваем временные рамки (на самом деле, конкретно тут это не то, чтобы имело большой смысл, ибо данные присутствуют только за 30 и 31 октября 2021 года, но исхожу из предположения масштабирования задания в будущем при разрастании таблицы). Затем в HAVING исключаю всех пользователей, которые решили меньше 20 \"горошин\" за месяц, поскольку это была нижняя граница \"очень усердного ученика\"\n",
    "\n",
    "В конце просто подсчитываю количество id, которые остались после всех ограничений"
   ]
  },
  {
   "cell_type": "code",
   "execution_count": 5,
   "metadata": {},
   "outputs": [],
   "source": [
    "q1 = ph.read_clickhouse(query = Query1, connection = connection_default)"
   ]
  },
  {
   "cell_type": "code",
   "execution_count": 6,
   "metadata": {},
   "outputs": [
    {
     "data": {
      "text/html": [
       "<div>\n",
       "<style scoped>\n",
       "    .dataframe tbody tr th:only-of-type {\n",
       "        vertical-align: middle;\n",
       "    }\n",
       "\n",
       "    .dataframe tbody tr th {\n",
       "        vertical-align: top;\n",
       "    }\n",
       "\n",
       "    .dataframe thead th {\n",
       "        text-align: right;\n",
       "    }\n",
       "</style>\n",
       "<table border=\"1\" class=\"dataframe\">\n",
       "  <thead>\n",
       "    <tr style=\"text-align: right;\">\n",
       "      <th></th>\n",
       "      <th>hard_workers_amount</th>\n",
       "    </tr>\n",
       "  </thead>\n",
       "  <tbody>\n",
       "    <tr>\n",
       "      <th>0</th>\n",
       "      <td>30</td>\n",
       "    </tr>\n",
       "  </tbody>\n",
       "</table>\n",
       "</div>"
      ],
      "text/plain": [
       "   hard_workers_amount\n",
       "0                   30"
      ]
     },
     "execution_count": 6,
     "metadata": {},
     "output_type": "execute_result"
    }
   ],
   "source": [
    "q1"
   ]
  },
  {
   "cell_type": "code",
   "execution_count": 19,
   "metadata": {},
   "outputs": [],
   "source": [
    "Query2 = '''\n",
    "WITH ABOBA AS (\n",
    "    SELECT \n",
    "        DISTINCT L.st_id AS st_id, \n",
    "        R.test_grp AS TestGroup\n",
    "    FROM default.peas L\n",
    "    LEFT JOIN default.studs R ON L.st_id = R.st_id\n",
    "),\n",
    "ABOBIK AS (\n",
    "    SELECT \n",
    "        st_id,\n",
    "        SUM(money) AS total_money\n",
    "    FROM default.final_project_check\n",
    "    WHERE sale_time BETWEEN '2021-10-01' AND '2021-10-31'\n",
    "    GROUP BY st_id\n",
    "),\n",
    "ACTIVE AS (\n",
    "    SELECT \n",
    "        st_id,\n",
    "        COUNT(*) AS correct_tasks\n",
    "    FROM default.peas\n",
    "    WHERE correct = 1\n",
    "    GROUP BY st_id\n",
    "    HAVING SUM(correct) >= 10),\n",
    "MATH AS (\n",
    "    SELECT\n",
    "        st_id,\n",
    "        COUNT(*) AS correct_tasks\n",
    "    FROM default.peas\n",
    "    WHERE correct = 1 AND subject == 'Math'\n",
    "    GROUP BY st_id\n",
    "    HAVING COUNT(correct) >= 2),\n",
    "MATH2 AS (\n",
    "    SELECT\n",
    "        st_id,\n",
    "        SUM(money) AS total_money\n",
    "    FROM default.final_project_check\n",
    "    WHERE subject = 'Math'\n",
    "    GROUP BY st_id)\n",
    "\n",
    "SELECT \n",
    "    L.TestGroup AS TestGroup,\n",
    "    SUM(R.total_money) / COUNT(DISTINCT L.st_id) AS ARPU,\n",
    "    SUM(R.total_money) / COUNT(DISTINCT N.st_id) AS ARPAU,\n",
    "    COUNT(DISTINCT R.st_id)/COUNT(DISTINCT L.st_id) AS CR,\n",
    "    COUNT(DISTINCT R.st_id)/COUNT(DISTINCT N.st_id) AS CR_active,\n",
    "    COUNT(DISTINCT Y.st_id)/COUNT(DISTINCT M.st_id) AS CR_math\n",
    "FROM ABOBA L\n",
    "LEFT JOIN ABOBIK R ON L.st_id = R.st_id\n",
    "LEFT JOIN ACTIVE N ON L.st_id = N.st_id\n",
    "LEFT JOIN MATH M ON L.st_id = M.st_id\n",
    "LEFT JOIN MATH2 Y ON L.st_id = Y.st_id\n",
    "GROUP BY L.TestGroup'''"
   ]
  },
  {
   "cell_type": "markdown",
   "metadata": {},
   "source": [
    "### Пояснение второго запроса\n",
    "\n",
    "**Временная таблица ABOBA**: Я сохраняю в ней только уникальные id пользователей, которые есть в таблице default.peas, дабы не разбирать пользователей, которые за указанный период не решали \"горошин\", а также присвоил каждому пользователю соответствующую группу\n",
    "\n",
    "**Временная таблица ABOBIK**: Я сгруппировал по id всех пользовтелей и посчитал суммарно потраченную сумму на каждого из них. Таблица будет мне необходима для подсчета ARPU, так как благодаря ней я буду учитывать всю полученную сумму от всех пользователей\n",
    "\n",
    "**Временная таблица ACTIVE**: Я группирую данные по id пользователей и считаю для каждого число решенных \"горошин\", отфильтровывая неправильно решенные \"горошины\" и пользователей, решивших меньше 10 задач (условия активного пользователя). Использую эту таблицу для определения общего числа активных пользователей, что использую для подсчета ARPAU\n",
    "\n",
    "**Временная таблица MATH**: Действия аналогичны таблице ARPAU, но в этот раз дополнительно прописываю необходимый предмет (Math) и изменяю число решенных \"горошин\" (2)\n",
    "\n",
    "**Временная таблица MATH2**: Таблица аналогична ABOBIK, кроме дополнительного условия - предмет Math. Однако он используется не для того, чтобы посчитать сумму, а чтобы найти число пользователей, которые купили курс именно по математике. Обе последние таблицы используются для подсчета CR в математику\n",
    "\n",
    "#### Рассчет метрик\n",
    "\n",
    "**ARPU** - суммарное число полученных денег (из таблицы ABOBIK) деленное на количество всех пользователей (из таблицы ABOBA)\n",
    "\n",
    "**ARPAU** - суммарное число полученных денег (из таблицы ABOBIK) деленное на количество всех активных пользователей (из таблицы ACTIVE)\n",
    "\n",
    "**CR** - число купивших курс (из таблицы ABOBIK) деленное на число всех пользователей, решавших горошины (из таблицы ABOBA)\n",
    "\n",
    "**CR_active** - число купивших курс (из таблицы ABOBIK) деленное на число всех активных пользователей (из таблицы ACTIVE)\n",
    "\n",
    "**CR_math** - число купивших курс по математике (из таблицы MATH2) деленное на число всех активных пользователей по математике (из таблицы MATH)"
   ]
  },
  {
   "cell_type": "code",
   "execution_count": 20,
   "metadata": {},
   "outputs": [],
   "source": [
    "q2 = ph.read_clickhouse(query = Query2, connection = connection_default)"
   ]
  },
  {
   "cell_type": "code",
   "execution_count": 21,
   "metadata": {},
   "outputs": [
    {
     "data": {
      "text/html": [
       "<div>\n",
       "<style scoped>\n",
       "    .dataframe tbody tr th:only-of-type {\n",
       "        vertical-align: middle;\n",
       "    }\n",
       "\n",
       "    .dataframe tbody tr th {\n",
       "        vertical-align: top;\n",
       "    }\n",
       "\n",
       "    .dataframe thead th {\n",
       "        text-align: right;\n",
       "    }\n",
       "</style>\n",
       "<table border=\"1\" class=\"dataframe\">\n",
       "  <thead>\n",
       "    <tr style=\"text-align: right;\">\n",
       "      <th></th>\n",
       "      <th>TestGroup</th>\n",
       "      <th>ARPU</th>\n",
       "      <th>ARPAU</th>\n",
       "      <th>CR</th>\n",
       "      <th>CR_active</th>\n",
       "      <th>CR_math</th>\n",
       "    </tr>\n",
       "  </thead>\n",
       "  <tbody>\n",
       "    <tr>\n",
       "      <th>0</th>\n",
       "      <td>control</td>\n",
       "      <td>4242.424242</td>\n",
       "      <td>5263.157895</td>\n",
       "      <td>0.054545</td>\n",
       "      <td>0.067669</td>\n",
       "      <td>0.180000</td>\n",
       "    </tr>\n",
       "    <tr>\n",
       "      <th>1</th>\n",
       "      <td>pilot</td>\n",
       "      <td>6223.776224</td>\n",
       "      <td>8725.490196</td>\n",
       "      <td>0.069930</td>\n",
       "      <td>0.098039</td>\n",
       "      <td>0.395349</td>\n",
       "    </tr>\n",
       "  </tbody>\n",
       "</table>\n",
       "</div>"
      ],
      "text/plain": [
       "  TestGroup         ARPU        ARPAU        CR  CR_active   CR_math\n",
       "0   control  4242.424242  5263.157895  0.054545   0.067669  0.180000\n",
       "1     pilot  6223.776224  8725.490196  0.069930   0.098039  0.395349"
      ]
     },
     "execution_count": 21,
     "metadata": {},
     "output_type": "execute_result"
    }
   ],
   "source": [
    "q2"
   ]
  },
  {
   "cell_type": "code",
   "execution_count": null,
   "metadata": {},
   "outputs": [],
   "source": []
  }
 ],
 "metadata": {
  "kernelspec": {
   "display_name": "Python 3",
   "language": "python",
   "name": "python3"
  },
  "language_info": {
   "codemirror_mode": {
    "name": "ipython",
    "version": 3
   },
   "file_extension": ".py",
   "mimetype": "text/x-python",
   "name": "python",
   "nbconvert_exporter": "python",
   "pygments_lexer": "ipython3",
   "version": "3.7.3"
  }
 },
 "nbformat": 4,
 "nbformat_minor": 4
}
